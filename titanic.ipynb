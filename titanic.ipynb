{
  "cells": [
    {
      "cell_type": "code",
      "execution_count": 20,
      "metadata": {
        "colab": {
          "base_uri": "https://localhost:8080/"
        },
        "id": "kDquMZJnkp0S",
        "outputId": "61ca9401-10aa-4c9c-98ac-9913d814a586"
      },
      "outputs": [
        {
          "name": "stdout",
          "output_type": "stream",
          "text": [
            "Requirement already satisfied: torchviz in c:\\users\\chris\\titanic\\venv\\lib\\site-packages (0.0.2)\n",
            "Requirement already satisfied: torch in c:\\users\\chris\\titanic\\venv\\lib\\site-packages (from torchviz) (1.10.1+cu102)\n",
            "Requirement already satisfied: graphviz in c:\\users\\chris\\titanic\\venv\\lib\\site-packages (from torchviz) (0.19.1)\n",
            "Requirement already satisfied: typing-extensions in c:\\users\\chris\\titanic\\venv\\lib\\site-packages (from torch->torchviz) (4.0.1)\n",
            "Note: you may need to restart the kernel to use updated packages.\n"
          ]
        },
        {
          "name": "stderr",
          "output_type": "stream",
          "text": [
            "WARNING: You are using pip version 21.2.4; however, version 21.3.1 is available.\n",
            "You should consider upgrading via the 'c:\\Users\\chris\\titanic\\venv\\Scripts\\python.exe -m pip install --upgrade pip' command.\n"
          ]
        }
      ],
      "source": [
        "import torch\n",
        "from torch import nn\n",
        "from torch.utils.data import DataLoader\n",
        "from torch.utils.data import Dataset\n",
        "import numpy as np\n",
        "import pandas as pd\n",
        "import torch.optim as optim\n",
        "from mlxtend.preprocessing import minmax_scaling\n",
        "from matplotlib import pyplot as plt\n",
        "import seaborn as sns\n",
        "from sklearn.preprocessing import MinMaxScaler, normalize, StandardScaler, Normalizer, RobustScaler\n",
        "from sklearn.model_selection import train_test_split\n",
        "%pip install torchviz\n",
        "from torchviz import make_dot\n",
        "from sklearn.impute import SimpleImputer"
      ]
    },
    {
      "cell_type": "code",
      "execution_count": 21,
      "metadata": {
        "id": "VZggE2-KmO2c"
      },
      "outputs": [],
      "source": [
        "df = pd.read_csv('train.csv')\n",
        "df.drop(['Name', 'Ticket', 'Cabin'], inplace=True, axis=1)"
      ]
    },
    {
      "cell_type": "code",
      "execution_count": 22,
      "metadata": {
        "colab": {
          "base_uri": "https://localhost:8080/"
        },
        "id": "pAxqFP9L-DxJ",
        "outputId": "2ca4b570-3012-4b7d-cc6c-9021b53fd09b"
      },
      "outputs": [
        {
          "data": {
            "text/plain": [
              "PassengerId      0\n",
              "Survived         0\n",
              "Pclass           0\n",
              "Sex              0\n",
              "Age            177\n",
              "SibSp            0\n",
              "Parch            0\n",
              "Fare             0\n",
              "Embarked         2\n",
              "dtype: int64"
            ]
          },
          "execution_count": 22,
          "metadata": {},
          "output_type": "execute_result"
        }
      ],
      "source": [
        "df.isna().sum()"
      ]
    },
    {
      "cell_type": "code",
      "execution_count": 23,
      "metadata": {
        "id": "hm7fghKF9i9f"
      },
      "outputs": [],
      "source": [
        "imp = SimpleImputer(missing_values=np.nan, strategy='mean')\n",
        "imp.fit(df['Age'].values.reshape(-1, 1))\n",
        "df['Age'] = imp.transform(df['Age'].values.reshape(-1, 1))"
      ]
    },
    {
      "cell_type": "code",
      "execution_count": 24,
      "metadata": {
        "colab": {
          "base_uri": "https://localhost:8080/"
        },
        "id": "Hj9Rzjfs-b1R",
        "outputId": "16e6d24a-abcd-4cab-83a6-f849a69b9b22"
      },
      "outputs": [
        {
          "data": {
            "text/plain": [
              "PassengerId    0\n",
              "Survived       0\n",
              "Pclass         0\n",
              "Sex            0\n",
              "Age            0\n",
              "SibSp          0\n",
              "Parch          0\n",
              "Fare           0\n",
              "Embarked       2\n",
              "dtype: int64"
            ]
          },
          "execution_count": 24,
          "metadata": {},
          "output_type": "execute_result"
        }
      ],
      "source": [
        "df.isna().sum()"
      ]
    },
    {
      "cell_type": "code",
      "execution_count": 25,
      "metadata": {
        "id": "dntKS-t79hvj"
      },
      "outputs": [],
      "source": [
        "df.dropna(inplace=True)"
      ]
    },
    {
      "cell_type": "code",
      "execution_count": 26,
      "metadata": {
        "colab": {
          "base_uri": "https://localhost:8080/",
          "height": 206
        },
        "id": "Sn3Lmej-ogqj",
        "outputId": "1f229d3c-b2fd-4e9f-8f7c-c0409d33552b"
      },
      "outputs": [
        {
          "data": {
            "text/html": [
              "<div>\n",
              "<style scoped>\n",
              "    .dataframe tbody tr th:only-of-type {\n",
              "        vertical-align: middle;\n",
              "    }\n",
              "\n",
              "    .dataframe tbody tr th {\n",
              "        vertical-align: top;\n",
              "    }\n",
              "\n",
              "    .dataframe thead th {\n",
              "        text-align: right;\n",
              "    }\n",
              "</style>\n",
              "<table border=\"1\" class=\"dataframe\">\n",
              "  <thead>\n",
              "    <tr style=\"text-align: right;\">\n",
              "      <th></th>\n",
              "      <th>PassengerId</th>\n",
              "      <th>Survived</th>\n",
              "      <th>Age</th>\n",
              "      <th>SibSp</th>\n",
              "      <th>Parch</th>\n",
              "      <th>Fare</th>\n",
              "      <th>Sex_female</th>\n",
              "      <th>Sex_male</th>\n",
              "      <th>Pclass_1</th>\n",
              "      <th>Pclass_2</th>\n",
              "      <th>Pclass_3</th>\n",
              "      <th>Embarked_C</th>\n",
              "      <th>Embarked_Q</th>\n",
              "      <th>Embarked_S</th>\n",
              "    </tr>\n",
              "  </thead>\n",
              "  <tbody>\n",
              "    <tr>\n",
              "      <th>0</th>\n",
              "      <td>1</td>\n",
              "      <td>0</td>\n",
              "      <td>22.0</td>\n",
              "      <td>1</td>\n",
              "      <td>0</td>\n",
              "      <td>7.2500</td>\n",
              "      <td>0</td>\n",
              "      <td>1</td>\n",
              "      <td>0</td>\n",
              "      <td>0</td>\n",
              "      <td>1</td>\n",
              "      <td>0</td>\n",
              "      <td>0</td>\n",
              "      <td>1</td>\n",
              "    </tr>\n",
              "    <tr>\n",
              "      <th>1</th>\n",
              "      <td>2</td>\n",
              "      <td>1</td>\n",
              "      <td>38.0</td>\n",
              "      <td>1</td>\n",
              "      <td>0</td>\n",
              "      <td>71.2833</td>\n",
              "      <td>1</td>\n",
              "      <td>0</td>\n",
              "      <td>1</td>\n",
              "      <td>0</td>\n",
              "      <td>0</td>\n",
              "      <td>1</td>\n",
              "      <td>0</td>\n",
              "      <td>0</td>\n",
              "    </tr>\n",
              "    <tr>\n",
              "      <th>2</th>\n",
              "      <td>3</td>\n",
              "      <td>1</td>\n",
              "      <td>26.0</td>\n",
              "      <td>0</td>\n",
              "      <td>0</td>\n",
              "      <td>7.9250</td>\n",
              "      <td>1</td>\n",
              "      <td>0</td>\n",
              "      <td>0</td>\n",
              "      <td>0</td>\n",
              "      <td>1</td>\n",
              "      <td>0</td>\n",
              "      <td>0</td>\n",
              "      <td>1</td>\n",
              "    </tr>\n",
              "    <tr>\n",
              "      <th>3</th>\n",
              "      <td>4</td>\n",
              "      <td>1</td>\n",
              "      <td>35.0</td>\n",
              "      <td>1</td>\n",
              "      <td>0</td>\n",
              "      <td>53.1000</td>\n",
              "      <td>1</td>\n",
              "      <td>0</td>\n",
              "      <td>1</td>\n",
              "      <td>0</td>\n",
              "      <td>0</td>\n",
              "      <td>0</td>\n",
              "      <td>0</td>\n",
              "      <td>1</td>\n",
              "    </tr>\n",
              "    <tr>\n",
              "      <th>4</th>\n",
              "      <td>5</td>\n",
              "      <td>0</td>\n",
              "      <td>35.0</td>\n",
              "      <td>0</td>\n",
              "      <td>0</td>\n",
              "      <td>8.0500</td>\n",
              "      <td>0</td>\n",
              "      <td>1</td>\n",
              "      <td>0</td>\n",
              "      <td>0</td>\n",
              "      <td>1</td>\n",
              "      <td>0</td>\n",
              "      <td>0</td>\n",
              "      <td>1</td>\n",
              "    </tr>\n",
              "  </tbody>\n",
              "</table>\n",
              "</div>"
            ],
            "text/plain": [
              "   PassengerId  Survived   Age  SibSp  Parch     Fare  Sex_female  Sex_male  \\\n",
              "0            1         0  22.0      1      0   7.2500           0         1   \n",
              "1            2         1  38.0      1      0  71.2833           1         0   \n",
              "2            3         1  26.0      0      0   7.9250           1         0   \n",
              "3            4         1  35.0      1      0  53.1000           1         0   \n",
              "4            5         0  35.0      0      0   8.0500           0         1   \n",
              "\n",
              "   Pclass_1  Pclass_2  Pclass_3  Embarked_C  Embarked_Q  Embarked_S  \n",
              "0         0         0         1           0           0           1  \n",
              "1         1         0         0           1           0           0  \n",
              "2         0         0         1           0           0           1  \n",
              "3         1         0         0           0           0           1  \n",
              "4         0         0         1           0           0           1  "
            ]
          },
          "execution_count": 26,
          "metadata": {},
          "output_type": "execute_result"
        }
      ],
      "source": [
        "df = pd.get_dummies(df, columns={'Sex'})\n",
        "df = pd.get_dummies(df, columns={'Pclass'})\n",
        "df = pd.get_dummies(df, columns={'Embarked'})\n",
        "df.head()"
      ]
    },
    {
      "cell_type": "code",
      "execution_count": 27,
      "metadata": {
        "id": "4UwkB4n96Jwt"
      },
      "outputs": [],
      "source": [
        "features = ['Age', 'Fare','Sex_female', 'Sex_male', 'Pclass_1',\t'Pclass_2',\t'Pclass_3', 'SibSp', 'SibSp', 'Embarked_C', 'Embarked_Q', 'Embarked_S']"
      ]
    },
    {
      "cell_type": "code",
      "execution_count": 28,
      "metadata": {
        "id": "7n0S9rM1Ycrv"
      },
      "outputs": [],
      "source": [
        "X_train, X_test, y_train, y_test = train_test_split(df.drop(columns=['Survived']), df['Survived'], test_size=0.2, random_state=1)"
      ]
    },
    {
      "cell_type": "code",
      "execution_count": 29,
      "metadata": {
        "id": "9bRTP4XjyOBM"
      },
      "outputs": [],
      "source": [
        "age_scaler = RobustScaler()\n",
        "age_scaler.fit(X_train['Age'].values.reshape(-1, 1))\n",
        "X_train['Age'] = pd.DataFrame(age_scaler.transform(X_train['Age'].values.reshape(-1, 1)), index=X_train.index)\n",
        "\n",
        "sibsp_scaler = RobustScaler()\n",
        "sibsp_scaler.fit(X_train['SibSp'].values.reshape(-1, 1))\n",
        "X_train['SibSp'] = pd.DataFrame(sibsp_scaler.transform(X_train['SibSp'].values.reshape(-1, 1)), index=X_train.index)\n",
        "\n",
        "parch_scaler = RobustScaler()\n",
        "parch_scaler.fit(X_train['Parch'].values.reshape(-1, 1))\n",
        "X_train['Parch'] = pd.DataFrame(parch_scaler.transform(X_train['Parch'].values.reshape(-1, 1)), index=X_train.index)\n",
        "\n",
        "fare_scaler = RobustScaler()\n",
        "fare_scaler.fit(X_train['Fare'].values.reshape(-1, 1))\n",
        "X_train['Fare'] = pd.DataFrame(fare_scaler.transform(X_train['Fare'].values.reshape(-1, 1)), index=X_train.index)"
      ]
    },
    {
      "cell_type": "code",
      "execution_count": 30,
      "metadata": {
        "id": "1LRV6xeGfHBB"
      },
      "outputs": [],
      "source": [
        "X_test['Age'] = pd.DataFrame(age_scaler.transform(X_test['Age'].values.reshape(-1, 1)), index=X_test.index)\n",
        "\n",
        "X_test['SibSp'] = pd.DataFrame(sibsp_scaler.transform(X_test['SibSp'].values.reshape(-1, 1)), index=X_test.index)\n",
        "\n",
        "X_test['Parch'] = pd.DataFrame(parch_scaler.transform(X_test['Parch'].values.reshape(-1, 1)), index=X_test.index)\n",
        "\n",
        "X_test['Fare'] = pd.DataFrame(fare_scaler.transform(X_test['Fare'].values.reshape(-1, 1)), index=X_test.index)"
      ]
    },
    {
      "cell_type": "code",
      "execution_count": 31,
      "metadata": {
        "id": "td433tflnIms"
      },
      "outputs": [],
      "source": [
        "class TitanicDataset(Dataset):\n",
        "    def __init__(self, x, y=None):\n",
        "      self.x = x\n",
        "      self.y = y\n",
        "        \n",
        "    def __len__(self):\n",
        "      return len(self.x)\n",
        "\n",
        "    def __getitem__(self, idx):\n",
        "      if self.y is None:\n",
        "        return \\\n",
        "              torch.tensor(self.x.iloc[idx][features]).float()\n",
        "      else:\n",
        "        return \\\n",
        "              torch.tensor(self.x.iloc[idx][features]).float(), \\\n",
        "              torch.tensor([self.y.iloc[idx]]).float()"
      ]
    },
    {
      "cell_type": "code",
      "execution_count": 32,
      "metadata": {
        "id": "YxUkoIsClOba"
      },
      "outputs": [],
      "source": [
        "BATCH_SIZE = 32\n",
        "\n",
        "train_dataset = TitanicDataset(X_train, y_train)\n",
        "\n",
        "titanic_train_loader = torch.utils.data.DataLoader(train_dataset, batch_size=BATCH_SIZE, shuffle=True)\n",
        "\n",
        "test_dataset = TitanicDataset(X_test, y_test)\n",
        "\n",
        "titanic_test_loader = torch.utils.data.DataLoader(test_dataset, batch_size=BATCH_SIZE, shuffle=True)\n"
      ]
    },
    {
      "cell_type": "code",
      "execution_count": 33,
      "metadata": {
        "colab": {
          "base_uri": "https://localhost:8080/"
        },
        "id": "PqTZ-AnAlKGq",
        "outputId": "4cb58bad-c67f-4c37-8585-ba98d9de97a7"
      },
      "outputs": [
        {
          "data": {
            "text/plain": [
              "NeuralNetwork(\n",
              "  (linear_relu_stack): Sequential(\n",
              "    (0): Linear(in_features=12, out_features=512, bias=True)\n",
              "    (1): ReLU()\n",
              "    (2): Linear(in_features=512, out_features=512, bias=True)\n",
              "    (3): ReLU()\n",
              "    (4): Linear(in_features=512, out_features=1, bias=True)\n",
              "  )\n",
              ")"
            ]
          },
          "execution_count": 33,
          "metadata": {},
          "output_type": "execute_result"
        }
      ],
      "source": [
        "class NeuralNetwork(nn.Module):\n",
        "    def __init__(self):\n",
        "        super(NeuralNetwork, self).__init__()\n",
        "        #self.flatten = nn.Flatten()\n",
        "        self.double()\n",
        "        self.linear_relu_stack = nn.Sequential(\n",
        "            nn.Linear(len(features), 512),\n",
        "            nn.ReLU(),\n",
        "            nn.Linear(512, 512),\n",
        "            nn.ReLU(),\n",
        "            nn.Linear(512, 1),\n",
        "        )\n",
        "\n",
        "    def forward(self, x):\n",
        "        #x = self.flatten(x)\n",
        "        logits = self.linear_relu_stack(x)\n",
        "        return logits\n",
        "\n",
        "model = NeuralNetwork()\n",
        "model"
      ]
    },
    {
      "cell_type": "code",
      "execution_count": 34,
      "metadata": {
        "id": "TUWd5qAim-u6"
      },
      "outputs": [],
      "source": [
        "loss_fn = nn.MSELoss()\n",
        "learning_rate = .001\n",
        "batch_size = 32\n",
        "epochs = 30\n",
        "optimizer = torch.optim.SGD(model.parameters(), lr=learning_rate)\n",
        "min_valid_loss = np.inf"
      ]
    },
    {
      "cell_type": "code",
      "execution_count": 35,
      "metadata": {
        "colab": {
          "base_uri": "https://localhost:8080/",
          "height": 206
        },
        "id": "ZOMwDTm_tfD0",
        "outputId": "d74b1c5b-5ffa-45ed-e125-41e17c9281b7"
      },
      "outputs": [
        {
          "data": {
            "text/html": [
              "<div>\n",
              "<style scoped>\n",
              "    .dataframe tbody tr th:only-of-type {\n",
              "        vertical-align: middle;\n",
              "    }\n",
              "\n",
              "    .dataframe tbody tr th {\n",
              "        vertical-align: top;\n",
              "    }\n",
              "\n",
              "    .dataframe thead th {\n",
              "        text-align: right;\n",
              "    }\n",
              "</style>\n",
              "<table border=\"1\" class=\"dataframe\">\n",
              "  <thead>\n",
              "    <tr style=\"text-align: right;\">\n",
              "      <th></th>\n",
              "      <th>PassengerId</th>\n",
              "      <th>Age</th>\n",
              "      <th>SibSp</th>\n",
              "      <th>Parch</th>\n",
              "      <th>Fare</th>\n",
              "      <th>Sex_female</th>\n",
              "      <th>Sex_male</th>\n",
              "      <th>Pclass_1</th>\n",
              "      <th>Pclass_2</th>\n",
              "      <th>Pclass_3</th>\n",
              "      <th>Embarked_C</th>\n",
              "      <th>Embarked_Q</th>\n",
              "      <th>Embarked_S</th>\n",
              "    </tr>\n",
              "  </thead>\n",
              "  <tbody>\n",
              "    <tr>\n",
              "      <th>716</th>\n",
              "      <td>717</td>\n",
              "      <td>0.664071</td>\n",
              "      <td>0.0</td>\n",
              "      <td>0.0</td>\n",
              "      <td>9.468373</td>\n",
              "      <td>1</td>\n",
              "      <td>0</td>\n",
              "      <td>1</td>\n",
              "      <td>0</td>\n",
              "      <td>0</td>\n",
              "      <td>1</td>\n",
              "      <td>0</td>\n",
              "      <td>0</td>\n",
              "    </tr>\n",
              "    <tr>\n",
              "      <th>768</th>\n",
              "      <td>769</td>\n",
              "      <td>0.000000</td>\n",
              "      <td>1.0</td>\n",
              "      <td>0.0</td>\n",
              "      <td>0.471151</td>\n",
              "      <td>0</td>\n",
              "      <td>1</td>\n",
              "      <td>0</td>\n",
              "      <td>0</td>\n",
              "      <td>1</td>\n",
              "      <td>0</td>\n",
              "      <td>1</td>\n",
              "      <td>0</td>\n",
              "    </tr>\n",
              "    <tr>\n",
              "      <th>73</th>\n",
              "      <td>74</td>\n",
              "      <td>-0.295929</td>\n",
              "      <td>1.0</td>\n",
              "      <td>0.0</td>\n",
              "      <td>0.042213</td>\n",
              "      <td>0</td>\n",
              "      <td>1</td>\n",
              "      <td>0</td>\n",
              "      <td>0</td>\n",
              "      <td>1</td>\n",
              "      <td>1</td>\n",
              "      <td>0</td>\n",
              "      <td>0</td>\n",
              "    </tr>\n",
              "    <tr>\n",
              "      <th>236</th>\n",
              "      <td>237</td>\n",
              "      <td>1.144071</td>\n",
              "      <td>1.0</td>\n",
              "      <td>0.0</td>\n",
              "      <td>0.552995</td>\n",
              "      <td>0</td>\n",
              "      <td>1</td>\n",
              "      <td>0</td>\n",
              "      <td>1</td>\n",
              "      <td>0</td>\n",
              "      <td>0</td>\n",
              "      <td>0</td>\n",
              "      <td>1</td>\n",
              "    </tr>\n",
              "    <tr>\n",
              "      <th>37</th>\n",
              "      <td>38</td>\n",
              "      <td>-0.695929</td>\n",
              "      <td>0.0</td>\n",
              "      <td>0.0</td>\n",
              "      <td>-0.241106</td>\n",
              "      <td>0</td>\n",
              "      <td>1</td>\n",
              "      <td>0</td>\n",
              "      <td>0</td>\n",
              "      <td>1</td>\n",
              "      <td>0</td>\n",
              "      <td>0</td>\n",
              "      <td>1</td>\n",
              "    </tr>\n",
              "  </tbody>\n",
              "</table>\n",
              "</div>"
            ],
            "text/plain": [
              "     PassengerId       Age  SibSp  Parch      Fare  Sex_female  Sex_male  \\\n",
              "716          717  0.664071    0.0    0.0  9.468373           1         0   \n",
              "768          769  0.000000    1.0    0.0  0.471151           0         1   \n",
              "73            74 -0.295929    1.0    0.0  0.042213           0         1   \n",
              "236          237  1.144071    1.0    0.0  0.552995           0         1   \n",
              "37            38 -0.695929    0.0    0.0 -0.241106           0         1   \n",
              "\n",
              "     Pclass_1  Pclass_2  Pclass_3  Embarked_C  Embarked_Q  Embarked_S  \n",
              "716         1         0         0           1           0           0  \n",
              "768         0         0         1           0           1           0  \n",
              "73          0         0         1           1           0           0  \n",
              "236         0         1         0           0           0           1  \n",
              "37          0         0         1           0           0           1  "
            ]
          },
          "execution_count": 35,
          "metadata": {},
          "output_type": "execute_result"
        }
      ],
      "source": [
        "X_train.tail()"
      ]
    },
    {
      "cell_type": "code",
      "execution_count": 36,
      "metadata": {
        "colab": {
          "base_uri": "https://localhost:8080/"
        },
        "id": "bI6tndvzp1Ia",
        "outputId": "0b7bbb62-9890-4b11-a671-723f9f8a1aef"
      },
      "outputs": [
        {
          "name": "stdout",
          "output_type": "stream",
          "text": [
            "Epoch 1 \t\t Training Loss: 1.2482511227329571 \t\t Validation Loss: 0.6487473696470261\n",
            "Validation Loss Decreased(inf--->3.892484) \t Saving The Model\n",
            "Epoch 2 \t\t Training Loss: 0.9969702238837878 \t\t Validation Loss: 0.6406892091035843\n",
            "Validation Loss Decreased(3.892484--->3.844135) \t Saving The Model\n",
            "Epoch 3 \t\t Training Loss: 0.9286853869756063 \t\t Validation Loss: 0.9084633886814117\n",
            "Epoch 4 \t\t Training Loss: 0.8872442891200384 \t\t Validation Loss: 0.8292117118835449\n",
            "Epoch 5 \t\t Training Loss: 0.8695275448262691 \t\t Validation Loss: 0.8731301128864288\n",
            "Epoch 6 \t\t Training Loss: 0.8243471831083298 \t\t Validation Loss: 0.8460592925548553\n",
            "Epoch 7 \t\t Training Loss: 0.7811780658861002 \t\t Validation Loss: 1.0558293163776398\n",
            "Epoch 8 \t\t Training Loss: 0.7671024998029073 \t\t Validation Loss: 0.6194327473640442\n",
            "Validation Loss Decreased(3.844135--->3.716596) \t Saving The Model\n",
            "Epoch 9 \t\t Training Loss: 0.7724158217509588 \t\t Validation Loss: 1.0971502661705017\n",
            "Epoch 10 \t\t Training Loss: 0.7405975175400575 \t\t Validation Loss: 0.6170910000801086\n",
            "Validation Loss Decreased(3.716596--->3.702546) \t Saving The Model\n",
            "Epoch 11 \t\t Training Loss: 0.7357965434590975 \t\t Validation Loss: 0.5264924615621567\n",
            "Validation Loss Decreased(3.702546--->3.158955) \t Saving The Model\n",
            "Epoch 12 \t\t Training Loss: 0.7303576717774073 \t\t Validation Loss: 0.9233415126800537\n",
            "Epoch 13 \t\t Training Loss: 0.7278462126851082 \t\t Validation Loss: 0.9887709617614746\n",
            "Epoch 14 \t\t Training Loss: 0.7047521993517876 \t\t Validation Loss: 0.8550025820732117\n",
            "Epoch 15 \t\t Training Loss: 0.6875638974209627 \t\t Validation Loss: 0.44248057901859283\n",
            "Validation Loss Decreased(3.158955--->2.654883) \t Saving The Model\n",
            "Epoch 16 \t\t Training Loss: 0.6883194198211035 \t\t Validation Loss: 0.8190498054027557\n",
            "Epoch 17 \t\t Training Loss: 0.6729674202700456 \t\t Validation Loss: 0.39136840403079987\n",
            "Validation Loss Decreased(2.654883--->2.348210) \t Saving The Model\n",
            "Epoch 18 \t\t Training Loss: 0.6805935502052307 \t\t Validation Loss: 0.5567810386419296\n",
            "Epoch 19 \t\t Training Loss: 0.6709276549518108 \t\t Validation Loss: 0.40823422372341156\n",
            "Epoch 20 \t\t Training Loss: 0.6720217677454153 \t\t Validation Loss: 0.3664347007870674\n",
            "Validation Loss Decreased(2.348210--->2.198608) \t Saving The Model\n",
            "Epoch 21 \t\t Training Loss: 0.6368598863482475 \t\t Validation Loss: 0.8092742264270782\n",
            "Epoch 22 \t\t Training Loss: 0.6433469988405704 \t\t Validation Loss: 0.31503014266490936\n",
            "Validation Loss Decreased(2.198608--->1.890181) \t Saving The Model\n",
            "Epoch 23 \t\t Training Loss: 0.6489859409630299 \t\t Validation Loss: 0.43488724529743195\n",
            "Epoch 24 \t\t Training Loss: 0.6452902766565481 \t\t Validation Loss: 0.7827664017677307\n",
            "Epoch 25 \t\t Training Loss: 0.6242153582473596 \t\t Validation Loss: 0.47647739946842194\n",
            "Epoch 26 \t\t Training Loss: 0.6138122454285622 \t\t Validation Loss: 0.44786757230758667\n",
            "Epoch 27 \t\t Training Loss: 0.6155868172645569 \t\t Validation Loss: 0.5436584651470184\n",
            "Epoch 28 \t\t Training Loss: 0.6050156193474928 \t\t Validation Loss: 0.5516327172517776\n",
            "Epoch 29 \t\t Training Loss: 0.6134144775569439 \t\t Validation Loss: 0.4610315412282944\n",
            "Epoch 30 \t\t Training Loss: 0.609194204211235 \t\t Validation Loss: 0.32684042304754257\n"
          ]
        }
      ],
      "source": [
        "criterion = nn.MSELoss()\n",
        "device = torch.device(\"cuda\" if torch.cuda.is_available() else \"cpu\")\n",
        "\n",
        "model.to(device)\n",
        "\n",
        "valid_losses = list()\n",
        "train_losses = list()\n",
        "\n",
        "for epoch in range(epochs):\n",
        "    train_loss = 0.0\n",
        "    # enumerate mini batches\n",
        "    for i, (inputs, targets) in enumerate(titanic_train_loader):\n",
        "        inputs, targets = inputs.to(device), targets.to(device)\n",
        "        # clear the gradients\n",
        "        optimizer.zero_grad()\n",
        "        # compute the model output\n",
        "        yhat = model(inputs)\n",
        "        # calculate loss\n",
        "        loss = criterion(yhat, targets)\n",
        "        # credit assignment\n",
        "        loss.backward()\n",
        "        # update model weights\n",
        "        optimizer.step()\n",
        "        # Calculate Loss\n",
        "        train_loss += loss.item()\n",
        "\n",
        "    valid_loss = 0.0\n",
        "    model.eval()     # Optional when not using Model Specific layer\n",
        "    for data, labels in titanic_test_loader:\n",
        "        if torch.cuda.is_available():\n",
        "            data, labels = data.cuda(), labels.cuda()\n",
        "        target = model(data)\n",
        "        loss = criterion(target,labels)\n",
        "        valid_loss = loss.item() * data.size(0)\n",
        "\n",
        "    print(f'Epoch {epoch+1} \\t\\t Training Loss: {train_loss / len(titanic_test_loader)} \\t\\t Validation Loss: {valid_loss / len(titanic_test_loader)}')\n",
        "    train_losses.append(train_loss)\n",
        "    valid_losses.append(valid_loss)\n",
        "\n",
        "    if min_valid_loss > valid_loss:\n",
        "        print(f'Validation Loss Decreased({min_valid_loss:.6f}--->{valid_loss:.6f}) \\t Saving The Model')\n",
        "        min_valid_loss = valid_loss\n",
        "        # Saving State Dict\n",
        "        torch.save(model.state_dict(), 'saved_model.pth')\n"
      ]
    },
    {
      "cell_type": "code",
      "execution_count": 37,
      "metadata": {
        "colab": {
          "base_uri": "https://localhost:8080/",
          "height": 296
        },
        "id": "B5lCocC0JLKB",
        "outputId": "b8f76cd6-edad-46fa-81b3-b56154f696d6"
      },
      "outputs": [
        {
          "data": {
            "text/plain": [
              "<matplotlib.legend.Legend at 0x19e9a09fb80>"
            ]
          },
          "execution_count": 37,
          "metadata": {},
          "output_type": "execute_result"
        },
        {
          "data": {
            "image/png": "[encoded data removed]",
            "text/plain": [
              "<Figure size 432x288 with 1 Axes>"
            ]
          },
          "metadata": {
            "needs_background": "light"
          },
          "output_type": "display_data"
        }
      ],
      "source": [
        "plt.plot(valid_losses, label='validation loss')\n",
        "plt.plot(train_losses, label='training loss')\n",
        "plt.xlabel('epoch')\n",
        "plt.ylabel('loss')\n",
        "plt.legend()"
      ]
    },
    {
      "cell_type": "code",
      "execution_count": 38,
      "metadata": {
        "id": "E5qM4TkGXJif"
      },
      "outputs": [],
      "source": [
        "df = pd.read_csv('test.csv')\n",
        "df.drop(['Name', 'Ticket', 'Cabin'], inplace=True, axis=1)"
      ]
    },
    {
      "cell_type": "code",
      "execution_count": 39,
      "metadata": {
        "id": "4VYxz6hMpIxK"
      },
      "outputs": [],
      "source": [
        "df = pd.get_dummies(df, columns={'Sex'})\n",
        "df = pd.get_dummies(df, columns={'Pclass'})\n",
        "df = pd.get_dummies(df, columns={'Embarked'})"
      ]
    },
    {
      "cell_type": "code",
      "execution_count": 40,
      "metadata": {
        "id": "PKrucQdoFJLL"
      },
      "outputs": [],
      "source": [
        "df['Age'] = pd.DataFrame(age_scaler.transform(df['Age'].values.reshape(-1, 1)), index=df.index)\n",
        "df['SibSp'] = pd.DataFrame(sibsp_scaler.transform(df['SibSp'].values.reshape(-1, 1)), index=df.index)\n",
        "df['Parch'] = pd.DataFrame(parch_scaler.transform(df['Parch'].values.reshape(-1, 1)), index=df.index)\n",
        "df['Fare'] = pd.DataFrame(fare_scaler.transform(df['Fare'].values.reshape(-1, 1)), index=df.index)"
      ]
    },
    {
      "cell_type": "code",
      "execution_count": 41,
      "metadata": {
        "id": "ra8qH1im_d9h"
      },
      "outputs": [],
      "source": [
        "imp = SimpleImputer(missing_values=np.nan, strategy='mean')\n",
        "imp.fit(df['Age'].values.reshape(-1, 1))\n",
        "df['Age'] = imp.transform(df['Age'].values.reshape(-1, 1))"
      ]
    },
    {
      "cell_type": "code",
      "execution_count": 42,
      "metadata": {
        "colab": {
          "base_uri": "https://localhost:8080/",
          "height": 206
        },
        "id": "Ocaavj5kxYNV",
        "outputId": "8af28522-08f8-4df9-81dc-ef3f94341239"
      },
      "outputs": [
        {
          "data": {
            "text/html": [
              "<div>\n",
              "<style scoped>\n",
              "    .dataframe tbody tr th:only-of-type {\n",
              "        vertical-align: middle;\n",
              "    }\n",
              "\n",
              "    .dataframe tbody tr th {\n",
              "        vertical-align: top;\n",
              "    }\n",
              "\n",
              "    .dataframe thead th {\n",
              "        text-align: right;\n",
              "    }\n",
              "</style>\n",
              "<table border=\"1\" class=\"dataframe\">\n",
              "  <thead>\n",
              "    <tr style=\"text-align: right;\">\n",
              "      <th></th>\n",
              "      <th>PassengerId</th>\n",
              "      <th>Age</th>\n",
              "      <th>SibSp</th>\n",
              "      <th>Parch</th>\n",
              "      <th>Fare</th>\n",
              "      <th>Sex_female</th>\n",
              "      <th>Sex_male</th>\n",
              "      <th>Pclass_1</th>\n",
              "      <th>Pclass_2</th>\n",
              "      <th>Pclass_3</th>\n",
              "      <th>Embarked_C</th>\n",
              "      <th>Embarked_Q</th>\n",
              "      <th>Embarked_S</th>\n",
              "    </tr>\n",
              "  </thead>\n",
              "  <tbody>\n",
              "    <tr>\n",
              "      <th>413</th>\n",
              "      <td>1305</td>\n",
              "      <td>0.045878</td>\n",
              "      <td>0.0</td>\n",
              "      <td>0.0</td>\n",
              "      <td>-0.241106</td>\n",
              "      <td>0</td>\n",
              "      <td>1</td>\n",
              "      <td>0</td>\n",
              "      <td>0</td>\n",
              "      <td>1</td>\n",
              "      <td>0</td>\n",
              "      <td>0</td>\n",
              "      <td>1</td>\n",
              "    </tr>\n",
              "    <tr>\n",
              "      <th>414</th>\n",
              "      <td>1306</td>\n",
              "      <td>0.744071</td>\n",
              "      <td>0.0</td>\n",
              "      <td>0.0</td>\n",
              "      <td>4.220455</td>\n",
              "      <td>1</td>\n",
              "      <td>0</td>\n",
              "      <td>1</td>\n",
              "      <td>0</td>\n",
              "      <td>0</td>\n",
              "      <td>1</td>\n",
              "      <td>0</td>\n",
              "      <td>0</td>\n",
              "    </tr>\n",
              "    <tr>\n",
              "      <th>415</th>\n",
              "      <td>1307</td>\n",
              "      <td>0.704071</td>\n",
              "      <td>0.0</td>\n",
              "      <td>0.0</td>\n",
              "      <td>-0.276497</td>\n",
              "      <td>0</td>\n",
              "      <td>1</td>\n",
              "      <td>0</td>\n",
              "      <td>0</td>\n",
              "      <td>1</td>\n",
              "      <td>0</td>\n",
              "      <td>0</td>\n",
              "      <td>1</td>\n",
              "    </tr>\n",
              "    <tr>\n",
              "      <th>416</th>\n",
              "      <td>1308</td>\n",
              "      <td>0.045878</td>\n",
              "      <td>0.0</td>\n",
              "      <td>0.0</td>\n",
              "      <td>-0.241106</td>\n",
              "      <td>0</td>\n",
              "      <td>1</td>\n",
              "      <td>0</td>\n",
              "      <td>0</td>\n",
              "      <td>1</td>\n",
              "      <td>0</td>\n",
              "      <td>0</td>\n",
              "      <td>1</td>\n",
              "    </tr>\n",
              "    <tr>\n",
              "      <th>417</th>\n",
              "      <td>1309</td>\n",
              "      <td>0.045878</td>\n",
              "      <td>1.0</td>\n",
              "      <td>1.0</td>\n",
              "      <td>0.391887</td>\n",
              "      <td>0</td>\n",
              "      <td>1</td>\n",
              "      <td>0</td>\n",
              "      <td>0</td>\n",
              "      <td>1</td>\n",
              "      <td>1</td>\n",
              "      <td>0</td>\n",
              "      <td>0</td>\n",
              "    </tr>\n",
              "  </tbody>\n",
              "</table>\n",
              "</div>"
            ],
            "text/plain": [
              "     PassengerId       Age  SibSp  Parch      Fare  Sex_female  Sex_male  \\\n",
              "413         1305  0.045878    0.0    0.0 -0.241106           0         1   \n",
              "414         1306  0.744071    0.0    0.0  4.220455           1         0   \n",
              "415         1307  0.704071    0.0    0.0 -0.276497           0         1   \n",
              "416         1308  0.045878    0.0    0.0 -0.241106           0         1   \n",
              "417         1309  0.045878    1.0    1.0  0.391887           0         1   \n",
              "\n",
              "     Pclass_1  Pclass_2  Pclass_3  Embarked_C  Embarked_Q  Embarked_S  \n",
              "413         0         0         1           0           0           1  \n",
              "414         1         0         0           1           0           0  \n",
              "415         0         0         1           0           0           1  \n",
              "416         0         0         1           0           0           1  \n",
              "417         0         0         1           1           0           0  "
            ]
          },
          "execution_count": 42,
          "metadata": {},
          "output_type": "execute_result"
        }
      ],
      "source": [
        "df.tail()"
      ]
    },
    {
      "cell_type": "code",
      "execution_count": 43,
      "metadata": {
        "colab": {
          "base_uri": "https://localhost:8080/",
          "height": 206
        },
        "id": "Z7p8oWafxZlx",
        "outputId": "7603e629-e29e-4582-f969-2f0d21819550"
      },
      "outputs": [
        {
          "data": {
            "text/html": [
              "<div>\n",
              "<style scoped>\n",
              "    .dataframe tbody tr th:only-of-type {\n",
              "        vertical-align: middle;\n",
              "    }\n",
              "\n",
              "    .dataframe tbody tr th {\n",
              "        vertical-align: top;\n",
              "    }\n",
              "\n",
              "    .dataframe thead th {\n",
              "        text-align: right;\n",
              "    }\n",
              "</style>\n",
              "<table border=\"1\" class=\"dataframe\">\n",
              "  <thead>\n",
              "    <tr style=\"text-align: right;\">\n",
              "      <th></th>\n",
              "      <th>PassengerId</th>\n",
              "      <th>Age</th>\n",
              "      <th>SibSp</th>\n",
              "      <th>Parch</th>\n",
              "      <th>Fare</th>\n",
              "      <th>Sex_female</th>\n",
              "      <th>Sex_male</th>\n",
              "      <th>Pclass_1</th>\n",
              "      <th>Pclass_2</th>\n",
              "      <th>Pclass_3</th>\n",
              "      <th>Embarked_C</th>\n",
              "      <th>Embarked_Q</th>\n",
              "      <th>Embarked_S</th>\n",
              "    </tr>\n",
              "  </thead>\n",
              "  <tbody>\n",
              "    <tr>\n",
              "      <th>413</th>\n",
              "      <td>1305</td>\n",
              "      <td>0.045878</td>\n",
              "      <td>0.0</td>\n",
              "      <td>0.0</td>\n",
              "      <td>-0.241106</td>\n",
              "      <td>0</td>\n",
              "      <td>1</td>\n",
              "      <td>0</td>\n",
              "      <td>0</td>\n",
              "      <td>1</td>\n",
              "      <td>0</td>\n",
              "      <td>0</td>\n",
              "      <td>1</td>\n",
              "    </tr>\n",
              "    <tr>\n",
              "      <th>414</th>\n",
              "      <td>1306</td>\n",
              "      <td>0.744071</td>\n",
              "      <td>0.0</td>\n",
              "      <td>0.0</td>\n",
              "      <td>4.220455</td>\n",
              "      <td>1</td>\n",
              "      <td>0</td>\n",
              "      <td>1</td>\n",
              "      <td>0</td>\n",
              "      <td>0</td>\n",
              "      <td>1</td>\n",
              "      <td>0</td>\n",
              "      <td>0</td>\n",
              "    </tr>\n",
              "    <tr>\n",
              "      <th>415</th>\n",
              "      <td>1307</td>\n",
              "      <td>0.704071</td>\n",
              "      <td>0.0</td>\n",
              "      <td>0.0</td>\n",
              "      <td>-0.276497</td>\n",
              "      <td>0</td>\n",
              "      <td>1</td>\n",
              "      <td>0</td>\n",
              "      <td>0</td>\n",
              "      <td>1</td>\n",
              "      <td>0</td>\n",
              "      <td>0</td>\n",
              "      <td>1</td>\n",
              "    </tr>\n",
              "    <tr>\n",
              "      <th>416</th>\n",
              "      <td>1308</td>\n",
              "      <td>0.045878</td>\n",
              "      <td>0.0</td>\n",
              "      <td>0.0</td>\n",
              "      <td>-0.241106</td>\n",
              "      <td>0</td>\n",
              "      <td>1</td>\n",
              "      <td>0</td>\n",
              "      <td>0</td>\n",
              "      <td>1</td>\n",
              "      <td>0</td>\n",
              "      <td>0</td>\n",
              "      <td>1</td>\n",
              "    </tr>\n",
              "    <tr>\n",
              "      <th>417</th>\n",
              "      <td>1309</td>\n",
              "      <td>0.045878</td>\n",
              "      <td>1.0</td>\n",
              "      <td>1.0</td>\n",
              "      <td>0.391887</td>\n",
              "      <td>0</td>\n",
              "      <td>1</td>\n",
              "      <td>0</td>\n",
              "      <td>0</td>\n",
              "      <td>1</td>\n",
              "      <td>1</td>\n",
              "      <td>0</td>\n",
              "      <td>0</td>\n",
              "    </tr>\n",
              "  </tbody>\n",
              "</table>\n",
              "</div>"
            ],
            "text/plain": [
              "     PassengerId       Age  SibSp  Parch      Fare  Sex_female  Sex_male  \\\n",
              "413         1305  0.045878    0.0    0.0 -0.241106           0         1   \n",
              "414         1306  0.744071    0.0    0.0  4.220455           1         0   \n",
              "415         1307  0.704071    0.0    0.0 -0.276497           0         1   \n",
              "416         1308  0.045878    0.0    0.0 -0.241106           0         1   \n",
              "417         1309  0.045878    1.0    1.0  0.391887           0         1   \n",
              "\n",
              "     Pclass_1  Pclass_2  Pclass_3  Embarked_C  Embarked_Q  Embarked_S  \n",
              "413         0         0         1           0           0           1  \n",
              "414         1         0         0           1           0           0  \n",
              "415         0         0         1           0           0           1  \n",
              "416         0         0         1           0           0           1  \n",
              "417         0         0         1           1           0           0  "
            ]
          },
          "execution_count": 43,
          "metadata": {},
          "output_type": "execute_result"
        }
      ],
      "source": [
        "df.tail()"
      ]
    },
    {
      "cell_type": "code",
      "execution_count": 44,
      "metadata": {
        "id": "de__RGDZpLwi"
      },
      "outputs": [],
      "source": [
        "test_dataset = TitanicDataset(df)\n",
        "titanic_test_loader = torch.utils.data.DataLoader(test_dataset, batch_size=BATCH_SIZE, shuffle=True)"
      ]
    },
    {
      "cell_type": "code",
      "execution_count": 45,
      "metadata": {
        "colab": {
          "base_uri": "https://localhost:8080/"
        },
        "id": "rQafuHQ1llbQ",
        "outputId": "05c266e8-401b-4398-eb75-f6f8c66d020c"
      },
      "outputs": [
        {
          "data": {
            "text/plain": [
              "NeuralNetwork(\n",
              "  (linear_relu_stack): Sequential(\n",
              "    (0): Linear(in_features=12, out_features=512, bias=True)\n",
              "    (1): ReLU()\n",
              "    (2): Linear(in_features=512, out_features=512, bias=True)\n",
              "    (3): ReLU()\n",
              "    (4): Linear(in_features=512, out_features=1, bias=True)\n",
              "  )\n",
              ")"
            ]
          },
          "execution_count": 45,
          "metadata": {},
          "output_type": "execute_result"
        }
      ],
      "source": [
        "model = NeuralNetwork().cuda()\n",
        "model.load_state_dict(torch.load('saved_model.pth'))\n",
        "model.eval()"
      ]
    },
    {
      "cell_type": "code",
      "execution_count": 46,
      "metadata": {
        "colab": {
          "base_uri": "https://localhost:8080/"
        },
        "id": "ktFSIsxac2ky",
        "outputId": "807a85fd-a9a4-48a1-93ac-21619f59d4c5"
      },
      "outputs": [
        {
          "data": {
            "text/plain": [
              "[[0.2390332818031311],\n",
              " [0.7260140776634216],\n",
              " [0.2503657341003418],\n",
              " [0.1977900266647339],\n",
              " [0.4712918698787689],\n",
              " [0.4288618862628937],\n",
              " [1.3009353876113892],\n",
              " [0.16989129781723022],\n",
              " [0.3449457287788391],\n",
              " [0.3464501202106476]]"
            ]
          },
          "execution_count": 46,
          "metadata": {},
          "output_type": "execute_result"
        }
      ],
      "source": [
        "preds = list()\n",
        "for data in titanic_test_loader:\n",
        "  if torch.cuda.is_available():\n",
        "      data, labels = data.cuda(), labels.cuda()\n",
        "  target = model(data)\n",
        "  preds = preds + target.tolist()\n",
        "preds[:10]"
      ]
    },
    {
      "cell_type": "code",
      "execution_count": 47,
      "metadata": {
        "id": "bbd35ifvnUsZ"
      },
      "outputs": [],
      "source": [
        "def func(i):\n",
        "  return i[0]\n",
        "preds = list(map(lambda i:func(i), preds))\n",
        "result = pd.DataFrame(index = df['PassengerId'])\n",
        "result['Survived'] = pd.DataFrame(preds, index=result.index)\n",
        "result['Survived'] = np.where(result['Survived'] < .5, 0, 1)\n",
        "result.to_csv('submission.csv')"
      ]
    },
    {
      "cell_type": "code",
      "execution_count": 48,
      "metadata": {
        "colab": {
          "base_uri": "https://localhost:8080/",
          "height": 35
        },
        "id": "Kpaz9zf0ntyE",
        "outputId": "4d52faa5-0f2a-4398-e977-1bfcc5c42703"
      },
      "outputs": [
        {
          "data": {
            "text/plain": [
              "'rnn_torchviz.png'"
            ]
          },
          "execution_count": 48,
          "metadata": {},
          "output_type": "execute_result"
        }
      ],
      "source": [
        "make_dot(yhat, params=dict(list(model.named_parameters()))).render(\"rnn_torchviz\", format=\"png\")"
      ]
    }
  ],
  "metadata": {
    "accelerator": "GPU",
    "colab": {
      "collapsed_sections": [],
      "name": "pytorch_titanic2.ipynb",
      "provenance": []
    },
    "kernelspec": {
      "display_name": "Python 3",
      "name": "python3"
    },
    "language_info": {
      "codemirror_mode": {
        "name": "ipython",
        "version": 3
      },
      "file_extension": ".py",
      "mimetype": "text/x-python",
      "name": "python",
      "nbconvert_exporter": "python",
      "pygments_lexer": "ipython3",
      "version": "3.9.9"
    }
  },
  "nbformat": 4,
  "nbformat_minor": 0
}
