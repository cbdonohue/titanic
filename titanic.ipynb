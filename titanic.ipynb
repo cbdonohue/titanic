{
  "cells": [
    {
      "cell_type": "code",
      "execution_count": 44,
      "metadata": {
        "colab": {
          "base_uri": "https://localhost:8080/"
        },
        "id": "kDquMZJnkp0S",
        "outputId": "61ca9401-10aa-4c9c-98ac-9913d814a586"
      },
      "outputs": [
        {
          "name": "stdout",
          "output_type": "stream",
          "text": [
            "Requirement already satisfied: torchviz in c:\\users\\chris\\titanic\\venv\\lib\\site-packages (0.0.2)\n",
            "Requirement already satisfied: torch in c:\\users\\chris\\titanic\\venv\\lib\\site-packages (from torchviz) (1.10.1+cu102)\n",
            "Requirement already satisfied: graphviz in c:\\users\\chris\\titanic\\venv\\lib\\site-packages (from torchviz) (0.19.1)\n",
            "Requirement already satisfied: typing-extensions in c:\\users\\chris\\titanic\\venv\\lib\\site-packages (from torch->torchviz) (4.0.1)\n",
            "Note: you may need to restart the kernel to use updated packages.\n"
          ]
        },
        {
          "name": "stderr",
          "output_type": "stream",
          "text": [
            "WARNING: You are using pip version 21.2.4; however, version 21.3.1 is available.\n",
            "You should consider upgrading via the 'c:\\Users\\chris\\titanic\\venv\\Scripts\\python.exe -m pip install --upgrade pip' command.\n"
          ]
        }
      ],
      "source": [
        "import torch\n",
        "from torch import nn\n",
        "from torch.utils.data import DataLoader\n",
        "from torch.utils.data import Dataset\n",
        "import numpy as np\n",
        "import pandas as pd\n",
        "import torch.optim as optim\n",
        "from mlxtend.preprocessing import minmax_scaling\n",
        "from matplotlib import pyplot as plt\n",
        "import seaborn as sns\n",
        "from sklearn.preprocessing import MinMaxScaler, normalize, StandardScaler, Normalizer, RobustScaler\n",
        "from sklearn.model_selection import train_test_split\n",
        "%pip install torchviz\n",
        "from torchviz import make_dot\n",
        "from sklearn.impute import SimpleImputer\n",
        "from IPython.display import Image"
      ]
    },
    {
      "cell_type": "code",
      "execution_count": 45,
      "metadata": {
        "id": "VZggE2-KmO2c"
      },
      "outputs": [],
      "source": [
        "df = pd.read_csv('train.csv')\n",
        "df.drop(['Name', 'Ticket', 'Cabin'], inplace=True, axis=1)"
      ]
    },
    {
      "cell_type": "code",
      "execution_count": 46,
      "metadata": {
        "colab": {
          "base_uri": "https://localhost:8080/"
        },
        "id": "pAxqFP9L-DxJ",
        "outputId": "2ca4b570-3012-4b7d-cc6c-9021b53fd09b"
      },
      "outputs": [
        {
          "data": {
            "text/plain": [
              "PassengerId      0\n",
              "Survived         0\n",
              "Pclass           0\n",
              "Sex              0\n",
              "Age            177\n",
              "SibSp            0\n",
              "Parch            0\n",
              "Fare             0\n",
              "Embarked         2\n",
              "dtype: int64"
            ]
          },
          "execution_count": 46,
          "metadata": {},
          "output_type": "execute_result"
        }
      ],
      "source": [
        "df.isna().sum()"
      ]
    },
    {
      "cell_type": "code",
      "execution_count": 47,
      "metadata": {
        "id": "hm7fghKF9i9f"
      },
      "outputs": [],
      "source": [
        "imp = SimpleImputer(missing_values=np.nan, strategy='mean')\n",
        "imp.fit(df['Age'].values.reshape(-1, 1))\n",
        "df['Age'] = imp.transform(df['Age'].values.reshape(-1, 1))"
      ]
    },
    {
      "cell_type": "code",
      "execution_count": 48,
      "metadata": {
        "colab": {
          "base_uri": "https://localhost:8080/"
        },
        "id": "Hj9Rzjfs-b1R",
        "outputId": "16e6d24a-abcd-4cab-83a6-f849a69b9b22"
      },
      "outputs": [
        {
          "data": {
            "text/plain": [
              "PassengerId    0\n",
              "Survived       0\n",
              "Pclass         0\n",
              "Sex            0\n",
              "Age            0\n",
              "SibSp          0\n",
              "Parch          0\n",
              "Fare           0\n",
              "Embarked       2\n",
              "dtype: int64"
            ]
          },
          "execution_count": 48,
          "metadata": {},
          "output_type": "execute_result"
        }
      ],
      "source": [
        "df.isna().sum()"
      ]
    },
    {
      "cell_type": "code",
      "execution_count": 49,
      "metadata": {
        "id": "dntKS-t79hvj"
      },
      "outputs": [],
      "source": [
        "df.dropna(inplace=True)"
      ]
    },
    {
      "cell_type": "code",
      "execution_count": 50,
      "metadata": {
        "colab": {
          "base_uri": "https://localhost:8080/",
          "height": 206
        },
        "id": "Sn3Lmej-ogqj",
        "outputId": "1f229d3c-b2fd-4e9f-8f7c-c0409d33552b"
      },
      "outputs": [
        {
          "data": {
            "text/html": [
              "<div>\n",
              "<style scoped>\n",
              "    .dataframe tbody tr th:only-of-type {\n",
              "        vertical-align: middle;\n",
              "    }\n",
              "\n",
              "    .dataframe tbody tr th {\n",
              "        vertical-align: top;\n",
              "    }\n",
              "\n",
              "    .dataframe thead th {\n",
              "        text-align: right;\n",
              "    }\n",
              "</style>\n",
              "<table border=\"1\" class=\"dataframe\">\n",
              "  <thead>\n",
              "    <tr style=\"text-align: right;\">\n",
              "      <th></th>\n",
              "      <th>PassengerId</th>\n",
              "      <th>Survived</th>\n",
              "      <th>Age</th>\n",
              "      <th>SibSp</th>\n",
              "      <th>Parch</th>\n",
              "      <th>Fare</th>\n",
              "      <th>Sex_female</th>\n",
              "      <th>Sex_male</th>\n",
              "      <th>Pclass_1</th>\n",
              "      <th>Pclass_2</th>\n",
              "      <th>Pclass_3</th>\n",
              "      <th>Embarked_C</th>\n",
              "      <th>Embarked_Q</th>\n",
              "      <th>Embarked_S</th>\n",
              "    </tr>\n",
              "  </thead>\n",
              "  <tbody>\n",
              "    <tr>\n",
              "      <th>0</th>\n",
              "      <td>1</td>\n",
              "      <td>0</td>\n",
              "      <td>22.0</td>\n",
              "      <td>1</td>\n",
              "      <td>0</td>\n",
              "      <td>7.2500</td>\n",
              "      <td>0</td>\n",
              "      <td>1</td>\n",
              "      <td>0</td>\n",
              "      <td>0</td>\n",
              "      <td>1</td>\n",
              "      <td>0</td>\n",
              "      <td>0</td>\n",
              "      <td>1</td>\n",
              "    </tr>\n",
              "    <tr>\n",
              "      <th>1</th>\n",
              "      <td>2</td>\n",
              "      <td>1</td>\n",
              "      <td>38.0</td>\n",
              "      <td>1</td>\n",
              "      <td>0</td>\n",
              "      <td>71.2833</td>\n",
              "      <td>1</td>\n",
              "      <td>0</td>\n",
              "      <td>1</td>\n",
              "      <td>0</td>\n",
              "      <td>0</td>\n",
              "      <td>1</td>\n",
              "      <td>0</td>\n",
              "      <td>0</td>\n",
              "    </tr>\n",
              "    <tr>\n",
              "      <th>2</th>\n",
              "      <td>3</td>\n",
              "      <td>1</td>\n",
              "      <td>26.0</td>\n",
              "      <td>0</td>\n",
              "      <td>0</td>\n",
              "      <td>7.9250</td>\n",
              "      <td>1</td>\n",
              "      <td>0</td>\n",
              "      <td>0</td>\n",
              "      <td>0</td>\n",
              "      <td>1</td>\n",
              "      <td>0</td>\n",
              "      <td>0</td>\n",
              "      <td>1</td>\n",
              "    </tr>\n",
              "    <tr>\n",
              "      <th>3</th>\n",
              "      <td>4</td>\n",
              "      <td>1</td>\n",
              "      <td>35.0</td>\n",
              "      <td>1</td>\n",
              "      <td>0</td>\n",
              "      <td>53.1000</td>\n",
              "      <td>1</td>\n",
              "      <td>0</td>\n",
              "      <td>1</td>\n",
              "      <td>0</td>\n",
              "      <td>0</td>\n",
              "      <td>0</td>\n",
              "      <td>0</td>\n",
              "      <td>1</td>\n",
              "    </tr>\n",
              "    <tr>\n",
              "      <th>4</th>\n",
              "      <td>5</td>\n",
              "      <td>0</td>\n",
              "      <td>35.0</td>\n",
              "      <td>0</td>\n",
              "      <td>0</td>\n",
              "      <td>8.0500</td>\n",
              "      <td>0</td>\n",
              "      <td>1</td>\n",
              "      <td>0</td>\n",
              "      <td>0</td>\n",
              "      <td>1</td>\n",
              "      <td>0</td>\n",
              "      <td>0</td>\n",
              "      <td>1</td>\n",
              "    </tr>\n",
              "  </tbody>\n",
              "</table>\n",
              "</div>"
            ],
            "text/plain": [
              "   PassengerId  Survived   Age  SibSp  Parch     Fare  Sex_female  Sex_male  \\\n",
              "0            1         0  22.0      1      0   7.2500           0         1   \n",
              "1            2         1  38.0      1      0  71.2833           1         0   \n",
              "2            3         1  26.0      0      0   7.9250           1         0   \n",
              "3            4         1  35.0      1      0  53.1000           1         0   \n",
              "4            5         0  35.0      0      0   8.0500           0         1   \n",
              "\n",
              "   Pclass_1  Pclass_2  Pclass_3  Embarked_C  Embarked_Q  Embarked_S  \n",
              "0         0         0         1           0           0           1  \n",
              "1         1         0         0           1           0           0  \n",
              "2         0         0         1           0           0           1  \n",
              "3         1         0         0           0           0           1  \n",
              "4         0         0         1           0           0           1  "
            ]
          },
          "execution_count": 50,
          "metadata": {},
          "output_type": "execute_result"
        }
      ],
      "source": [
        "df = pd.get_dummies(df, columns={'Sex'})\n",
        "df = pd.get_dummies(df, columns={'Pclass'})\n",
        "df = pd.get_dummies(df, columns={'Embarked'})\n",
        "df.head()"
      ]
    },
    {
      "cell_type": "code",
      "execution_count": 51,
      "metadata": {
        "id": "4UwkB4n96Jwt"
      },
      "outputs": [],
      "source": [
        "features = ['Age', 'Fare','Sex_female', 'Sex_male', 'Pclass_1',\t'Pclass_2',\t'Pclass_3', 'SibSp', 'SibSp', 'Embarked_C', 'Embarked_Q', 'Embarked_S']"
      ]
    },
    {
      "cell_type": "code",
      "execution_count": 52,
      "metadata": {
        "id": "7n0S9rM1Ycrv"
      },
      "outputs": [],
      "source": [
        "X_train, X_test, y_train, y_test = train_test_split(df.drop(columns=['Survived']), df['Survived'], test_size=0.2, random_state=1)"
      ]
    },
    {
      "cell_type": "code",
      "execution_count": 53,
      "metadata": {
        "id": "9bRTP4XjyOBM"
      },
      "outputs": [],
      "source": [
        "age_scaler = RobustScaler()\n",
        "age_scaler.fit(X_train['Age'].values.reshape(-1, 1))\n",
        "X_train['Age'] = pd.DataFrame(age_scaler.transform(X_train['Age'].values.reshape(-1, 1)), index=X_train.index)\n",
        "\n",
        "sibsp_scaler = RobustScaler()\n",
        "sibsp_scaler.fit(X_train['SibSp'].values.reshape(-1, 1))\n",
        "X_train['SibSp'] = pd.DataFrame(sibsp_scaler.transform(X_train['SibSp'].values.reshape(-1, 1)), index=X_train.index)\n",
        "\n",
        "parch_scaler = RobustScaler()\n",
        "parch_scaler.fit(X_train['Parch'].values.reshape(-1, 1))\n",
        "X_train['Parch'] = pd.DataFrame(parch_scaler.transform(X_train['Parch'].values.reshape(-1, 1)), index=X_train.index)\n",
        "\n",
        "fare_scaler = RobustScaler()\n",
        "fare_scaler.fit(X_train['Fare'].values.reshape(-1, 1))\n",
        "X_train['Fare'] = pd.DataFrame(fare_scaler.transform(X_train['Fare'].values.reshape(-1, 1)), index=X_train.index)"
      ]
    },
    {
      "cell_type": "code",
      "execution_count": 54,
      "metadata": {
        "id": "1LRV6xeGfHBB"
      },
      "outputs": [],
      "source": [
        "X_test['Age'] = pd.DataFrame(age_scaler.transform(X_test['Age'].values.reshape(-1, 1)), index=X_test.index)\n",
        "\n",
        "X_test['SibSp'] = pd.DataFrame(sibsp_scaler.transform(X_test['SibSp'].values.reshape(-1, 1)), index=X_test.index)\n",
        "\n",
        "X_test['Parch'] = pd.DataFrame(parch_scaler.transform(X_test['Parch'].values.reshape(-1, 1)), index=X_test.index)\n",
        "\n",
        "X_test['Fare'] = pd.DataFrame(fare_scaler.transform(X_test['Fare'].values.reshape(-1, 1)), index=X_test.index)"
      ]
    },
    {
      "cell_type": "code",
      "execution_count": 55,
      "metadata": {
        "id": "td433tflnIms"
      },
      "outputs": [],
      "source": [
        "class TitanicDataset(Dataset):\n",
        "    def __init__(self, x, y=None):\n",
        "      self.x = x\n",
        "      self.y = y\n",
        "        \n",
        "    def __len__(self):\n",
        "      return len(self.x)\n",
        "\n",
        "    def __getitem__(self, idx):\n",
        "      if self.y is None:\n",
        "        return \\\n",
        "              torch.tensor(self.x.iloc[idx][features]).float()\n",
        "      else:\n",
        "        return \\\n",
        "              torch.tensor(self.x.iloc[idx][features]).float(), \\\n",
        "              torch.tensor([self.y.iloc[idx]]).float()"
      ]
    },
    {
      "cell_type": "code",
      "execution_count": 56,
      "metadata": {
        "id": "YxUkoIsClOba"
      },
      "outputs": [],
      "source": [
        "BATCH_SIZE = 32\n",
        "\n",
        "train_dataset = TitanicDataset(X_train, y_train)\n",
        "\n",
        "titanic_train_loader = torch.utils.data.DataLoader(train_dataset, batch_size=BATCH_SIZE, shuffle=True)\n",
        "\n",
        "test_dataset = TitanicDataset(X_test, y_test)\n",
        "\n",
        "titanic_test_loader = torch.utils.data.DataLoader(test_dataset, batch_size=BATCH_SIZE, shuffle=True)\n"
      ]
    },
    {
      "cell_type": "code",
      "execution_count": 57,
      "metadata": {
        "colab": {
          "base_uri": "https://localhost:8080/"
        },
        "id": "PqTZ-AnAlKGq",
        "outputId": "4cb58bad-c67f-4c37-8585-ba98d9de97a7"
      },
      "outputs": [
        {
          "data": {
            "text/plain": [
              "NeuralNetwork(\n",
              "  (linear_relu_stack): Sequential(\n",
              "    (0): Linear(in_features=12, out_features=512, bias=True)\n",
              "    (1): ReLU()\n",
              "    (2): Linear(in_features=512, out_features=512, bias=True)\n",
              "    (3): ReLU()\n",
              "    (4): Linear(in_features=512, out_features=1, bias=True)\n",
              "  )\n",
              ")"
            ]
          },
          "execution_count": 57,
          "metadata": {},
          "output_type": "execute_result"
        }
      ],
      "source": [
        "class NeuralNetwork(nn.Module):\n",
        "    def __init__(self):\n",
        "        super(NeuralNetwork, self).__init__()\n",
        "        #self.flatten = nn.Flatten()\n",
        "        self.double()\n",
        "        self.linear_relu_stack = nn.Sequential(\n",
        "            nn.Linear(len(features), 512),\n",
        "            nn.ReLU(),\n",
        "            nn.Linear(512, 512),\n",
        "            nn.ReLU(),\n",
        "            nn.Linear(512, 1),\n",
        "        )\n",
        "\n",
        "    def forward(self, x):\n",
        "        #x = self.flatten(x)\n",
        "        logits = self.linear_relu_stack(x)\n",
        "        return logits\n",
        "\n",
        "model = NeuralNetwork()\n",
        "model"
      ]
    },
    {
      "cell_type": "code",
      "execution_count": 58,
      "metadata": {
        "id": "TUWd5qAim-u6"
      },
      "outputs": [],
      "source": [
        "loss_fn = nn.MSELoss()\n",
        "learning_rate = .001\n",
        "batch_size = 32\n",
        "epochs = 30\n",
        "optimizer = torch.optim.SGD(model.parameters(), lr=learning_rate)\n",
        "min_valid_loss = np.inf"
      ]
    },
    {
      "cell_type": "code",
      "execution_count": 59,
      "metadata": {
        "colab": {
          "base_uri": "https://localhost:8080/",
          "height": 206
        },
        "id": "ZOMwDTm_tfD0",
        "outputId": "d74b1c5b-5ffa-45ed-e125-41e17c9281b7"
      },
      "outputs": [
        {
          "data": {
            "text/html": [
              "<div>\n",
              "<style scoped>\n",
              "    .dataframe tbody tr th:only-of-type {\n",
              "        vertical-align: middle;\n",
              "    }\n",
              "\n",
              "    .dataframe tbody tr th {\n",
              "        vertical-align: top;\n",
              "    }\n",
              "\n",
              "    .dataframe thead th {\n",
              "        text-align: right;\n",
              "    }\n",
              "</style>\n",
              "<table border=\"1\" class=\"dataframe\">\n",
              "  <thead>\n",
              "    <tr style=\"text-align: right;\">\n",
              "      <th></th>\n",
              "      <th>PassengerId</th>\n",
              "      <th>Age</th>\n",
              "      <th>SibSp</th>\n",
              "      <th>Parch</th>\n",
              "      <th>Fare</th>\n",
              "      <th>Sex_female</th>\n",
              "      <th>Sex_male</th>\n",
              "      <th>Pclass_1</th>\n",
              "      <th>Pclass_2</th>\n",
              "      <th>Pclass_3</th>\n",
              "      <th>Embarked_C</th>\n",
              "      <th>Embarked_Q</th>\n",
              "      <th>Embarked_S</th>\n",
              "    </tr>\n",
              "  </thead>\n",
              "  <tbody>\n",
              "    <tr>\n",
              "      <th>716</th>\n",
              "      <td>717</td>\n",
              "      <td>0.664071</td>\n",
              "      <td>0.0</td>\n",
              "      <td>0.0</td>\n",
              "      <td>9.468373</td>\n",
              "      <td>1</td>\n",
              "      <td>0</td>\n",
              "      <td>1</td>\n",
              "      <td>0</td>\n",
              "      <td>0</td>\n",
              "      <td>1</td>\n",
              "      <td>0</td>\n",
              "      <td>0</td>\n",
              "    </tr>\n",
              "    <tr>\n",
              "      <th>768</th>\n",
              "      <td>769</td>\n",
              "      <td>0.000000</td>\n",
              "      <td>1.0</td>\n",
              "      <td>0.0</td>\n",
              "      <td>0.471151</td>\n",
              "      <td>0</td>\n",
              "      <td>1</td>\n",
              "      <td>0</td>\n",
              "      <td>0</td>\n",
              "      <td>1</td>\n",
              "      <td>0</td>\n",
              "      <td>1</td>\n",
              "      <td>0</td>\n",
              "    </tr>\n",
              "    <tr>\n",
              "      <th>73</th>\n",
              "      <td>74</td>\n",
              "      <td>-0.295929</td>\n",
              "      <td>1.0</td>\n",
              "      <td>0.0</td>\n",
              "      <td>0.042213</td>\n",
              "      <td>0</td>\n",
              "      <td>1</td>\n",
              "      <td>0</td>\n",
              "      <td>0</td>\n",
              "      <td>1</td>\n",
              "      <td>1</td>\n",
              "      <td>0</td>\n",
              "      <td>0</td>\n",
              "    </tr>\n",
              "    <tr>\n",
              "      <th>236</th>\n",
              "      <td>237</td>\n",
              "      <td>1.144071</td>\n",
              "      <td>1.0</td>\n",
              "      <td>0.0</td>\n",
              "      <td>0.552995</td>\n",
              "      <td>0</td>\n",
              "      <td>1</td>\n",
              "      <td>0</td>\n",
              "      <td>1</td>\n",
              "      <td>0</td>\n",
              "      <td>0</td>\n",
              "      <td>0</td>\n",
              "      <td>1</td>\n",
              "    </tr>\n",
              "    <tr>\n",
              "      <th>37</th>\n",
              "      <td>38</td>\n",
              "      <td>-0.695929</td>\n",
              "      <td>0.0</td>\n",
              "      <td>0.0</td>\n",
              "      <td>-0.241106</td>\n",
              "      <td>0</td>\n",
              "      <td>1</td>\n",
              "      <td>0</td>\n",
              "      <td>0</td>\n",
              "      <td>1</td>\n",
              "      <td>0</td>\n",
              "      <td>0</td>\n",
              "      <td>1</td>\n",
              "    </tr>\n",
              "  </tbody>\n",
              "</table>\n",
              "</div>"
            ],
            "text/plain": [
              "     PassengerId       Age  SibSp  Parch      Fare  Sex_female  Sex_male  \\\n",
              "716          717  0.664071    0.0    0.0  9.468373           1         0   \n",
              "768          769  0.000000    1.0    0.0  0.471151           0         1   \n",
              "73            74 -0.295929    1.0    0.0  0.042213           0         1   \n",
              "236          237  1.144071    1.0    0.0  0.552995           0         1   \n",
              "37            38 -0.695929    0.0    0.0 -0.241106           0         1   \n",
              "\n",
              "     Pclass_1  Pclass_2  Pclass_3  Embarked_C  Embarked_Q  Embarked_S  \n",
              "716         1         0         0           1           0           0  \n",
              "768         0         0         1           0           1           0  \n",
              "73          0         0         1           1           0           0  \n",
              "236         0         1         0           0           0           1  \n",
              "37          0         0         1           0           0           1  "
            ]
          },
          "execution_count": 59,
          "metadata": {},
          "output_type": "execute_result"
        }
      ],
      "source": [
        "X_train.tail()"
      ]
    },
    {
      "cell_type": "code",
      "execution_count": 60,
      "metadata": {
        "colab": {
          "base_uri": "https://localhost:8080/"
        },
        "id": "bI6tndvzp1Ia",
        "outputId": "0b7bbb62-9890-4b11-a671-723f9f8a1aef"
      },
      "outputs": [
        {
          "name": "stdout",
          "output_type": "stream",
          "text": [
            "Epoch 1 \t\t Training Loss: 1.2582301994164784 \t\t Validation Loss: 1.1319626569747925\n",
            "Validation Loss Decreased(inf--->6.791776) \t Saving The Model\n",
            "Epoch 2 \t\t Training Loss: 1.0152406245470047 \t\t Validation Loss: 0.8025821149349213\n",
            "Validation Loss Decreased(6.791776--->4.815493) \t Saving The Model\n",
            "Epoch 3 \t\t Training Loss: 0.9553517401218414 \t\t Validation Loss: 0.920762836933136\n",
            "Epoch 4 \t\t Training Loss: 0.9013572360078493 \t\t Validation Loss: 0.9788213968276978\n",
            "Epoch 5 \t\t Training Loss: 0.9015096525351206 \t\t Validation Loss: 0.620332270860672\n",
            "Validation Loss Decreased(4.815493--->3.721994) \t Saving The Model\n",
            "Epoch 6 \t\t Training Loss: 0.8696364065011343 \t\t Validation Loss: 0.7032136023044586\n",
            "Epoch 7 \t\t Training Loss: 0.8459497193495432 \t\t Validation Loss: 0.648244634270668\n",
            "Epoch 8 \t\t Training Loss: 0.8447918047507604 \t\t Validation Loss: 0.8752052485942841\n",
            "Epoch 9 \t\t Training Loss: 0.822623960673809 \t\t Validation Loss: 0.5617566257715225\n",
            "Validation Loss Decreased(3.721994--->3.370540) \t Saving The Model\n",
            "Epoch 10 \t\t Training Loss: 0.8094632650415102 \t\t Validation Loss: 0.6746469587087631\n",
            "Epoch 11 \t\t Training Loss: 0.7788659905393919 \t\t Validation Loss: 0.714714914560318\n",
            "Epoch 12 \t\t Training Loss: 0.7783083779116472 \t\t Validation Loss: 0.7483449876308441\n",
            "Epoch 13 \t\t Training Loss: 0.765483538309733 \t\t Validation Loss: 0.6598754972219467\n",
            "Epoch 14 \t\t Training Loss: 0.7472886530061563 \t\t Validation Loss: 0.7909822762012482\n",
            "Epoch 15 \t\t Training Loss: 0.7650379066665968 \t\t Validation Loss: 1.1674734950065613\n",
            "Epoch 16 \t\t Training Loss: 0.7413924038410187 \t\t Validation Loss: 0.7292841374874115\n",
            "Epoch 17 \t\t Training Loss: 0.7214155942201614 \t\t Validation Loss: 0.7826998829841614\n",
            "Epoch 18 \t\t Training Loss: 0.7241433809200922 \t\t Validation Loss: 0.580127477645874\n",
            "Epoch 19 \t\t Training Loss: 0.7186124101281166 \t\t Validation Loss: 0.48930349946022034\n",
            "Validation Loss Decreased(3.370540--->2.935821) \t Saving The Model\n",
            "Epoch 20 \t\t Training Loss: 0.6853964279095331 \t\t Validation Loss: 0.43862079083919525\n",
            "Validation Loss Decreased(2.935821--->2.631725) \t Saving The Model\n",
            "Epoch 21 \t\t Training Loss: 0.6896569219728311 \t\t Validation Loss: 0.4218054413795471\n",
            "Validation Loss Decreased(2.631725--->2.530833) \t Saving The Model\n",
            "Epoch 22 \t\t Training Loss: 0.6797603815793991 \t\t Validation Loss: 0.3853924870491028\n",
            "Validation Loss Decreased(2.530833--->2.312355) \t Saving The Model\n",
            "Epoch 23 \t\t Training Loss: 0.6752674294014772 \t\t Validation Loss: 0.43767857551574707\n",
            "Epoch 24 \t\t Training Loss: 0.6683153584599495 \t\t Validation Loss: 0.3782290667295456\n",
            "Validation Loss Decreased(2.312355--->2.269374) \t Saving The Model\n",
            "Epoch 25 \t\t Training Loss: 0.6535035421450933 \t\t Validation Loss: 0.7602851986885071\n",
            "Epoch 26 \t\t Training Loss: 0.6504694993297259 \t\t Validation Loss: 0.5584259033203125\n",
            "Epoch 27 \t\t Training Loss: 0.6429083695014318 \t\t Validation Loss: 0.3580818548798561\n",
            "Validation Loss Decreased(2.269374--->2.148491) \t Saving The Model\n",
            "Epoch 28 \t\t Training Loss: 0.6420123937229315 \t\t Validation Loss: 0.5585512965917587\n",
            "Epoch 29 \t\t Training Loss: 0.6465469747781754 \t\t Validation Loss: 0.4228161871433258\n",
            "Epoch 30 \t\t Training Loss: 0.6347778787215551 \t\t Validation Loss: 0.4652787744998932\n"
          ]
        }
      ],
      "source": [
        "criterion = nn.MSELoss()\n",
        "device = torch.device(\"cuda\" if torch.cuda.is_available() else \"cpu\")\n",
        "\n",
        "model.to(device)\n",
        "\n",
        "valid_losses = list()\n",
        "train_losses = list()\n",
        "\n",
        "for epoch in range(epochs):\n",
        "    train_loss = 0.0\n",
        "    # enumerate mini batches\n",
        "    for i, (inputs, targets) in enumerate(titanic_train_loader):\n",
        "        inputs, targets = inputs.to(device), targets.to(device)\n",
        "        # clear the gradients\n",
        "        optimizer.zero_grad()\n",
        "        # compute the model output\n",
        "        yhat = model(inputs)\n",
        "        # calculate loss\n",
        "        loss = criterion(yhat, targets)\n",
        "        # credit assignment\n",
        "        loss.backward()\n",
        "        # update model weights\n",
        "        optimizer.step()\n",
        "        # Calculate Loss\n",
        "        train_loss += loss.item()\n",
        "\n",
        "    valid_loss = 0.0\n",
        "    model.eval()     # Optional when not using Model Specific layer\n",
        "    for data, labels in titanic_test_loader:\n",
        "        if torch.cuda.is_available():\n",
        "            data, labels = data.cuda(), labels.cuda()\n",
        "        target = model(data)\n",
        "        loss = criterion(target,labels)\n",
        "        valid_loss = loss.item() * data.size(0)\n",
        "\n",
        "    print(f'Epoch {epoch+1} \\t\\t Training Loss: {train_loss / len(titanic_test_loader)} \\t\\t Validation Loss: {valid_loss / len(titanic_test_loader)}')\n",
        "    train_losses.append(train_loss)\n",
        "    valid_losses.append(valid_loss)\n",
        "\n",
        "    if min_valid_loss > valid_loss:\n",
        "        print(f'Validation Loss Decreased({min_valid_loss:.6f}--->{valid_loss:.6f}) \\t Saving The Model')\n",
        "        min_valid_loss = valid_loss\n",
        "        # Saving State Dict\n",
        "        torch.save(model.state_dict(), 'saved_model.pth')\n"
      ]
    },
    {
      "cell_type": "code",
      "execution_count": 61,
      "metadata": {
        "colab": {
          "base_uri": "https://localhost:8080/",
          "height": 296
        },
        "id": "B5lCocC0JLKB",
        "outputId": "b8f76cd6-edad-46fa-81b3-b56154f696d6"
      },
      "outputs": [
        {
          "data": {
            "text/plain": [
              "<matplotlib.legend.Legend at 0x203d18de880>"
            ]
          },
          "execution_count": 61,
          "metadata": {},
          "output_type": "execute_result"
        },
        {
          "data": {
            "image/png": "[encoded data removed]",
            "text/plain": [
              "<Figure size 432x288 with 1 Axes>"
            ]
          },
          "metadata": {
            "needs_background": "light"
          },
          "output_type": "display_data"
        }
      ],
      "source": [
        "plt.plot(valid_losses, label='validation loss')\n",
        "plt.plot(train_losses, label='training loss')\n",
        "plt.xlabel('epoch')\n",
        "plt.ylabel('loss')\n",
        "plt.legend()"
      ]
    },
    {
      "cell_type": "code",
      "execution_count": 62,
      "metadata": {
        "id": "E5qM4TkGXJif"
      },
      "outputs": [],
      "source": [
        "df = pd.read_csv('test.csv')\n",
        "df.drop(['Name', 'Ticket', 'Cabin'], inplace=True, axis=1)"
      ]
    },
    {
      "cell_type": "code",
      "execution_count": 63,
      "metadata": {
        "id": "4VYxz6hMpIxK"
      },
      "outputs": [],
      "source": [
        "df = pd.get_dummies(df, columns={'Sex'})\n",
        "df = pd.get_dummies(df, columns={'Pclass'})\n",
        "df = pd.get_dummies(df, columns={'Embarked'})"
      ]
    },
    {
      "cell_type": "code",
      "execution_count": 64,
      "metadata": {
        "id": "PKrucQdoFJLL"
      },
      "outputs": [],
      "source": [
        "df['Age'] = pd.DataFrame(age_scaler.transform(df['Age'].values.reshape(-1, 1)), index=df.index)\n",
        "df['SibSp'] = pd.DataFrame(sibsp_scaler.transform(df['SibSp'].values.reshape(-1, 1)), index=df.index)\n",
        "df['Parch'] = pd.DataFrame(parch_scaler.transform(df['Parch'].values.reshape(-1, 1)), index=df.index)\n",
        "df['Fare'] = pd.DataFrame(fare_scaler.transform(df['Fare'].values.reshape(-1, 1)), index=df.index)"
      ]
    },
    {
      "cell_type": "code",
      "execution_count": 65,
      "metadata": {
        "id": "ra8qH1im_d9h"
      },
      "outputs": [],
      "source": [
        "imp = SimpleImputer(missing_values=np.nan, strategy='mean')\n",
        "imp.fit(df['Age'].values.reshape(-1, 1))\n",
        "df['Age'] = imp.transform(df['Age'].values.reshape(-1, 1))"
      ]
    },
    {
      "cell_type": "code",
      "execution_count": 66,
      "metadata": {
        "colab": {
          "base_uri": "https://localhost:8080/",
          "height": 206
        },
        "id": "Ocaavj5kxYNV",
        "outputId": "8af28522-08f8-4df9-81dc-ef3f94341239"
      },
      "outputs": [
        {
          "data": {
            "text/html": [
              "<div>\n",
              "<style scoped>\n",
              "    .dataframe tbody tr th:only-of-type {\n",
              "        vertical-align: middle;\n",
              "    }\n",
              "\n",
              "    .dataframe tbody tr th {\n",
              "        vertical-align: top;\n",
              "    }\n",
              "\n",
              "    .dataframe thead th {\n",
              "        text-align: right;\n",
              "    }\n",
              "</style>\n",
              "<table border=\"1\" class=\"dataframe\">\n",
              "  <thead>\n",
              "    <tr style=\"text-align: right;\">\n",
              "      <th></th>\n",
              "      <th>PassengerId</th>\n",
              "      <th>Age</th>\n",
              "      <th>SibSp</th>\n",
              "      <th>Parch</th>\n",
              "      <th>Fare</th>\n",
              "      <th>Sex_female</th>\n",
              "      <th>Sex_male</th>\n",
              "      <th>Pclass_1</th>\n",
              "      <th>Pclass_2</th>\n",
              "      <th>Pclass_3</th>\n",
              "      <th>Embarked_C</th>\n",
              "      <th>Embarked_Q</th>\n",
              "      <th>Embarked_S</th>\n",
              "    </tr>\n",
              "  </thead>\n",
              "  <tbody>\n",
              "    <tr>\n",
              "      <th>413</th>\n",
              "      <td>1305</td>\n",
              "      <td>0.045878</td>\n",
              "      <td>0.0</td>\n",
              "      <td>0.0</td>\n",
              "      <td>-0.241106</td>\n",
              "      <td>0</td>\n",
              "      <td>1</td>\n",
              "      <td>0</td>\n",
              "      <td>0</td>\n",
              "      <td>1</td>\n",
              "      <td>0</td>\n",
              "      <td>0</td>\n",
              "      <td>1</td>\n",
              "    </tr>\n",
              "    <tr>\n",
              "      <th>414</th>\n",
              "      <td>1306</td>\n",
              "      <td>0.744071</td>\n",
              "      <td>0.0</td>\n",
              "      <td>0.0</td>\n",
              "      <td>4.220455</td>\n",
              "      <td>1</td>\n",
              "      <td>0</td>\n",
              "      <td>1</td>\n",
              "      <td>0</td>\n",
              "      <td>0</td>\n",
              "      <td>1</td>\n",
              "      <td>0</td>\n",
              "      <td>0</td>\n",
              "    </tr>\n",
              "    <tr>\n",
              "      <th>415</th>\n",
              "      <td>1307</td>\n",
              "      <td>0.704071</td>\n",
              "      <td>0.0</td>\n",
              "      <td>0.0</td>\n",
              "      <td>-0.276497</td>\n",
              "      <td>0</td>\n",
              "      <td>1</td>\n",
              "      <td>0</td>\n",
              "      <td>0</td>\n",
              "      <td>1</td>\n",
              "      <td>0</td>\n",
              "      <td>0</td>\n",
              "      <td>1</td>\n",
              "    </tr>\n",
              "    <tr>\n",
              "      <th>416</th>\n",
              "      <td>1308</td>\n",
              "      <td>0.045878</td>\n",
              "      <td>0.0</td>\n",
              "      <td>0.0</td>\n",
              "      <td>-0.241106</td>\n",
              "      <td>0</td>\n",
              "      <td>1</td>\n",
              "      <td>0</td>\n",
              "      <td>0</td>\n",
              "      <td>1</td>\n",
              "      <td>0</td>\n",
              "      <td>0</td>\n",
              "      <td>1</td>\n",
              "    </tr>\n",
              "    <tr>\n",
              "      <th>417</th>\n",
              "      <td>1309</td>\n",
              "      <td>0.045878</td>\n",
              "      <td>1.0</td>\n",
              "      <td>1.0</td>\n",
              "      <td>0.391887</td>\n",
              "      <td>0</td>\n",
              "      <td>1</td>\n",
              "      <td>0</td>\n",
              "      <td>0</td>\n",
              "      <td>1</td>\n",
              "      <td>1</td>\n",
              "      <td>0</td>\n",
              "      <td>0</td>\n",
              "    </tr>\n",
              "  </tbody>\n",
              "</table>\n",
              "</div>"
            ],
            "text/plain": [
              "     PassengerId       Age  SibSp  Parch      Fare  Sex_female  Sex_male  \\\n",
              "413         1305  0.045878    0.0    0.0 -0.241106           0         1   \n",
              "414         1306  0.744071    0.0    0.0  4.220455           1         0   \n",
              "415         1307  0.704071    0.0    0.0 -0.276497           0         1   \n",
              "416         1308  0.045878    0.0    0.0 -0.241106           0         1   \n",
              "417         1309  0.045878    1.0    1.0  0.391887           0         1   \n",
              "\n",
              "     Pclass_1  Pclass_2  Pclass_3  Embarked_C  Embarked_Q  Embarked_S  \n",
              "413         0         0         1           0           0           1  \n",
              "414         1         0         0           1           0           0  \n",
              "415         0         0         1           0           0           1  \n",
              "416         0         0         1           0           0           1  \n",
              "417         0         0         1           1           0           0  "
            ]
          },
          "execution_count": 66,
          "metadata": {},
          "output_type": "execute_result"
        }
      ],
      "source": [
        "df.tail()"
      ]
    },
    {
      "cell_type": "code",
      "execution_count": 67,
      "metadata": {
        "colab": {
          "base_uri": "https://localhost:8080/",
          "height": 206
        },
        "id": "Z7p8oWafxZlx",
        "outputId": "7603e629-e29e-4582-f969-2f0d21819550"
      },
      "outputs": [
        {
          "data": {
            "text/html": [
              "<div>\n",
              "<style scoped>\n",
              "    .dataframe tbody tr th:only-of-type {\n",
              "        vertical-align: middle;\n",
              "    }\n",
              "\n",
              "    .dataframe tbody tr th {\n",
              "        vertical-align: top;\n",
              "    }\n",
              "\n",
              "    .dataframe thead th {\n",
              "        text-align: right;\n",
              "    }\n",
              "</style>\n",
              "<table border=\"1\" class=\"dataframe\">\n",
              "  <thead>\n",
              "    <tr style=\"text-align: right;\">\n",
              "      <th></th>\n",
              "      <th>PassengerId</th>\n",
              "      <th>Age</th>\n",
              "      <th>SibSp</th>\n",
              "      <th>Parch</th>\n",
              "      <th>Fare</th>\n",
              "      <th>Sex_female</th>\n",
              "      <th>Sex_male</th>\n",
              "      <th>Pclass_1</th>\n",
              "      <th>Pclass_2</th>\n",
              "      <th>Pclass_3</th>\n",
              "      <th>Embarked_C</th>\n",
              "      <th>Embarked_Q</th>\n",
              "      <th>Embarked_S</th>\n",
              "    </tr>\n",
              "  </thead>\n",
              "  <tbody>\n",
              "    <tr>\n",
              "      <th>413</th>\n",
              "      <td>1305</td>\n",
              "      <td>0.045878</td>\n",
              "      <td>0.0</td>\n",
              "      <td>0.0</td>\n",
              "      <td>-0.241106</td>\n",
              "      <td>0</td>\n",
              "      <td>1</td>\n",
              "      <td>0</td>\n",
              "      <td>0</td>\n",
              "      <td>1</td>\n",
              "      <td>0</td>\n",
              "      <td>0</td>\n",
              "      <td>1</td>\n",
              "    </tr>\n",
              "    <tr>\n",
              "      <th>414</th>\n",
              "      <td>1306</td>\n",
              "      <td>0.744071</td>\n",
              "      <td>0.0</td>\n",
              "      <td>0.0</td>\n",
              "      <td>4.220455</td>\n",
              "      <td>1</td>\n",
              "      <td>0</td>\n",
              "      <td>1</td>\n",
              "      <td>0</td>\n",
              "      <td>0</td>\n",
              "      <td>1</td>\n",
              "      <td>0</td>\n",
              "      <td>0</td>\n",
              "    </tr>\n",
              "    <tr>\n",
              "      <th>415</th>\n",
              "      <td>1307</td>\n",
              "      <td>0.704071</td>\n",
              "      <td>0.0</td>\n",
              "      <td>0.0</td>\n",
              "      <td>-0.276497</td>\n",
              "      <td>0</td>\n",
              "      <td>1</td>\n",
              "      <td>0</td>\n",
              "      <td>0</td>\n",
              "      <td>1</td>\n",
              "      <td>0</td>\n",
              "      <td>0</td>\n",
              "      <td>1</td>\n",
              "    </tr>\n",
              "    <tr>\n",
              "      <th>416</th>\n",
              "      <td>1308</td>\n",
              "      <td>0.045878</td>\n",
              "      <td>0.0</td>\n",
              "      <td>0.0</td>\n",
              "      <td>-0.241106</td>\n",
              "      <td>0</td>\n",
              "      <td>1</td>\n",
              "      <td>0</td>\n",
              "      <td>0</td>\n",
              "      <td>1</td>\n",
              "      <td>0</td>\n",
              "      <td>0</td>\n",
              "      <td>1</td>\n",
              "    </tr>\n",
              "    <tr>\n",
              "      <th>417</th>\n",
              "      <td>1309</td>\n",
              "      <td>0.045878</td>\n",
              "      <td>1.0</td>\n",
              "      <td>1.0</td>\n",
              "      <td>0.391887</td>\n",
              "      <td>0</td>\n",
              "      <td>1</td>\n",
              "      <td>0</td>\n",
              "      <td>0</td>\n",
              "      <td>1</td>\n",
              "      <td>1</td>\n",
              "      <td>0</td>\n",
              "      <td>0</td>\n",
              "    </tr>\n",
              "  </tbody>\n",
              "</table>\n",
              "</div>"
            ],
            "text/plain": [
              "     PassengerId       Age  SibSp  Parch      Fare  Sex_female  Sex_male  \\\n",
              "413         1305  0.045878    0.0    0.0 -0.241106           0         1   \n",
              "414         1306  0.744071    0.0    0.0  4.220455           1         0   \n",
              "415         1307  0.704071    0.0    0.0 -0.276497           0         1   \n",
              "416         1308  0.045878    0.0    0.0 -0.241106           0         1   \n",
              "417         1309  0.045878    1.0    1.0  0.391887           0         1   \n",
              "\n",
              "     Pclass_1  Pclass_2  Pclass_3  Embarked_C  Embarked_Q  Embarked_S  \n",
              "413         0         0         1           0           0           1  \n",
              "414         1         0         0           1           0           0  \n",
              "415         0         0         1           0           0           1  \n",
              "416         0         0         1           0           0           1  \n",
              "417         0         0         1           1           0           0  "
            ]
          },
          "execution_count": 67,
          "metadata": {},
          "output_type": "execute_result"
        }
      ],
      "source": [
        "df.tail()"
      ]
    },
    {
      "cell_type": "code",
      "execution_count": 68,
      "metadata": {
        "id": "de__RGDZpLwi"
      },
      "outputs": [],
      "source": [
        "test_dataset = TitanicDataset(df)\n",
        "titanic_test_loader = torch.utils.data.DataLoader(test_dataset, batch_size=BATCH_SIZE, shuffle=True)"
      ]
    },
    {
      "cell_type": "code",
      "execution_count": 69,
      "metadata": {
        "colab": {
          "base_uri": "https://localhost:8080/"
        },
        "id": "rQafuHQ1llbQ",
        "outputId": "05c266e8-401b-4398-eb75-f6f8c66d020c"
      },
      "outputs": [
        {
          "data": {
            "text/plain": [
              "NeuralNetwork(\n",
              "  (linear_relu_stack): Sequential(\n",
              "    (0): Linear(in_features=12, out_features=512, bias=True)\n",
              "    (1): ReLU()\n",
              "    (2): Linear(in_features=512, out_features=512, bias=True)\n",
              "    (3): ReLU()\n",
              "    (4): Linear(in_features=512, out_features=1, bias=True)\n",
              "  )\n",
              ")"
            ]
          },
          "execution_count": 69,
          "metadata": {},
          "output_type": "execute_result"
        }
      ],
      "source": [
        "model = NeuralNetwork().cuda()\n",
        "model.load_state_dict(torch.load('saved_model.pth'))\n",
        "model.eval()"
      ]
    },
    {
      "cell_type": "code",
      "execution_count": 70,
      "metadata": {
        "colab": {
          "base_uri": "https://localhost:8080/"
        },
        "id": "ktFSIsxac2ky",
        "outputId": "807a85fd-a9a4-48a1-93ac-21619f59d4c5"
      },
      "outputs": [
        {
          "data": {
            "text/plain": [
              "[[0.2704331576824188],\n",
              " [0.8288739919662476],\n",
              " [0.4149993658065796],\n",
              " [0.8202027082443237],\n",
              " [0.20206138491630554],\n",
              " [0.16775795817375183],\n",
              " [0.1839350163936615],\n",
              " [0.25752711296081543],\n",
              " [0.2788071930408478],\n",
              " [0.21453051269054413]]"
            ]
          },
          "execution_count": 70,
          "metadata": {},
          "output_type": "execute_result"
        }
      ],
      "source": [
        "preds = list()\n",
        "for data in titanic_test_loader:\n",
        "  if torch.cuda.is_available():\n",
        "      data, labels = data.cuda(), labels.cuda()\n",
        "  target = model(data)\n",
        "  preds = preds + target.tolist()\n",
        "preds[:10]"
      ]
    },
    {
      "cell_type": "code",
      "execution_count": 71,
      "metadata": {
        "id": "bbd35ifvnUsZ"
      },
      "outputs": [],
      "source": [
        "def func(i):\n",
        "  return i[0]\n",
        "preds = list(map(lambda i:func(i), preds))\n",
        "result = pd.DataFrame(index = df['PassengerId'])\n",
        "result['Survived'] = pd.DataFrame(preds, index=result.index)\n",
        "result['Survived'] = np.where(result['Survived'] < .5, 0, 1)\n",
        "result.to_csv('submission.csv')"
      ]
    },
    {
      "cell_type": "code",
      "execution_count": 73,
      "metadata": {
        "colab": {
          "base_uri": "https://localhost:8080/",
          "height": 35
        },
        "id": "Kpaz9zf0ntyE",
        "outputId": "4d52faa5-0f2a-4398-e977-1bfcc5c42703"
      },
      "outputs": [
        {
          "data": {
            "image/png": "[encoded data removed]",
            "text/plain": [
              "<IPython.core.display.Image object>"
            ]
          },
          "execution_count": 73,
          "metadata": {},
          "output_type": "execute_result"
        }
      ],
      "source": [
        "make_dot(yhat, params=dict(list(model.named_parameters()))).render(\"rnn_torchviz\", format=\"png\")\n",
        "Image(filename='rnn_torchviz.png') "
      ]
    },
    {
      "cell_type": "code",
      "execution_count": null,
      "metadata": {},
      "outputs": [],
      "source": []
    }
  ],
  "metadata": {
    "accelerator": "GPU",
    "colab": {
      "collapsed_sections": [],
      "name": "pytorch_titanic2.ipynb",
      "provenance": []
    },
    "kernelspec": {
      "display_name": "Python 3",
      "name": "python3"
    },
    "language_info": {
      "codemirror_mode": {
        "name": "ipython",
        "version": 3
      },
      "file_extension": ".py",
      "mimetype": "text/x-python",
      "name": "python",
      "nbconvert_exporter": "python",
      "pygments_lexer": "ipython3",
      "version": "3.9.9"
    }
  },
  "nbformat": 4,
  "nbformat_minor": 0
}
